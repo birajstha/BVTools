{
 "cells": [
  {
   "cell_type": "code",
   "execution_count": 6,
   "id": "b584ebc8",
   "metadata": {},
   "outputs": [],
   "source": [
    "def play_sound(frequency, duration, duty_cycle):\n",
    "    import pyaudio\n",
    "    import numpy as np\n",
    "\n",
    "    p = pyaudio.PyAudio()\n",
    "\n",
    "    volume = 0.5     # range [0.0, 1.0]\n",
    "    fs = 44100       # sampling rate, Hz, must be integer\n",
    "    #duration = 1.0   # in seconds, may be float\n",
    "    f = 1000.0        # sine frequency, Hz, may be float\n",
    "\n",
    "    # generate samples, note conversion to float32 array\n",
    "    samples = (np.sin(2*np.pi*np.arange(fs*duration)*f/fs)).astype(np.float32)\n",
    "\n",
    "    # for paFloat32 sample values must be in range [-1.0, 1.0]\n",
    "    stream = p.open(format=pyaudio.paFloat32,\n",
    "                    channels=1,\n",
    "                    rate=fs,\n",
    "                    output=True)\n",
    "\n",
    "    # play. May repeat with different volume values (if done interactively) \n",
    "    stream.write(volume*samples)\n",
    "\n",
    "    stream.stop_stream()\n",
    "    stream.close()\n",
    "\n",
    "    p.terminate()"
   ]
  },
  {
   "cell_type": "code",
   "execution_count": 7,
   "id": "419a9d6c",
   "metadata": {},
   "outputs": [],
   "source": [
    "play_sound(100)"
   ]
  },
  {
   "cell_type": "code",
   "execution_count": null,
   "id": "7c2f41c9",
   "metadata": {},
   "outputs": [],
   "source": []
  },
  {
   "cell_type": "code",
   "execution_count": null,
   "id": "31861ffe",
   "metadata": {},
   "outputs": [],
   "source": []
  }
 ],
 "metadata": {
  "kernelspec": {
   "display_name": "Python 3.11.1 64-bit",
   "language": "python",
   "name": "python3"
  },
  "language_info": {
   "codemirror_mode": {
    "name": "ipython",
    "version": 3
   },
   "file_extension": ".py",
   "mimetype": "text/x-python",
   "name": "python",
   "nbconvert_exporter": "python",
   "pygments_lexer": "ipython3",
   "version": "3.11.1"
  },
  "vscode": {
   "interpreter": {
    "hash": "e7370f93d1d0cde622a1f8e1c04877d8463912d04d973331ad4851f04de6915a"
   }
  }
 },
 "nbformat": 4,
 "nbformat_minor": 5
}
