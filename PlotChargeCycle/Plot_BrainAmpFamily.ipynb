{
 "cells": [
  {
   "cell_type": "code",
   "execution_count": 15,
   "id": "d49d5e67",
   "metadata": {},
   "outputs": [],
   "source": [
    "import matplotlib\n",
    "matplotlib.use('Qt5Agg')\n",
    "import matplotlib.pyplot as plt\n",
    "import os\n",
    "\n",
    "cwd = os.getcwd()\n",
    "\n",
    "x_values = []\n",
    "y_values = []\n",
    "\n",
    "p = os.path.join(cwd, 'BrainAmpFamily.log')\n",
    "\n",
    "f = open(p, 'r')\n",
    "for row in f:\n",
    "    row = row.split(';')\n",
    "    charge = row[5][0:6]\n",
    "    \n",
    "    if (float(charge) > 8):\n",
    "        print(\"Invalid Voltage! >> \" + row[5] +\"V  >> \" + row[0] + \" Check Amplifier >> \"+row[6])\n",
    "    x_values.append(row[0])\n",
    "    y_values.append(float(charge))\n",
    "\n",
    "plt.plot(x_values, y_values, color = 'g')\n",
    "\n",
    "plt.xlabel('Date/Time', fontsize = 12)\n",
    "plt.ylabel('Voltage', fontsize = 12)\n",
    "\n",
    "plt.xticks(x_values[::30],  rotation='vertical')\n",
    "plt.margins(0.02)\n",
    "\n",
    "plt.ylim(bottom= 5, top= 7.5)\n",
    "plt.axhline(y= 5.5, color='red', linestyle = 'dotted', linewidth = 1, label = 'Cutoff is 5.5V')\n",
    "\n",
    "plt.title('Charge Cycle', fontsize = 20)\n",
    "plt.legend()\n",
    "plt.tight_layout()\n",
    "plt.show()"
   ]
  },
  {
   "cell_type": "code",
   "execution_count": null,
   "id": "3289b81d",
   "metadata": {},
   "outputs": [],
   "source": []
  },
  {
   "cell_type": "code",
   "execution_count": null,
   "id": "956eeb1e",
   "metadata": {},
   "outputs": [],
   "source": []
  },
  {
   "cell_type": "code",
   "execution_count": null,
   "id": "1629f439",
   "metadata": {},
   "outputs": [],
   "source": []
  }
 ],
 "metadata": {
  "kernelspec": {
   "display_name": "Python 3 (ipykernel)",
   "language": "python",
   "name": "python3"
  },
  "language_info": {
   "codemirror_mode": {
    "name": "ipython",
    "version": 3
   },
   "file_extension": ".py",
   "mimetype": "text/x-python",
   "name": "python",
   "nbconvert_exporter": "python",
   "pygments_lexer": "ipython3",
   "version": "3.8.8"
  }
 },
 "nbformat": 4,
 "nbformat_minor": 5
}
