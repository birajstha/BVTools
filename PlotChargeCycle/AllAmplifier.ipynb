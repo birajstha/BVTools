{
 "cells": [
  {
   "cell_type": "code",
   "execution_count": 1,
   "id": "d49d5e67",
   "metadata": {},
   "outputs": [],
   "source": [
    "import matplotlib\n",
    "matplotlib.use('Qt5Agg')\n",
    "import matplotlib.pyplot as plt\n",
    "import os\n",
    "\n",
    "cwd = os.getcwd()\n",
    "\n",
    "lst = []\n",
    "\n",
    "p = os.path.join(cwd, 'actiCHamp.log')\n",
    "\n",
    "f = open(p, 'r')\n",
    "for row in f:\n",
    "    row = row.split(';')\n",
    "    \n",
    "\n",
    "    lst.append(str(int(row[6])))\n"
   ]
  },
  {
   "cell_type": "code",
   "execution_count": 2,
   "id": "787ed871",
   "metadata": {},
   "outputs": [],
   "source": [
    "from collections import Counter\n",
    "counts = Counter(lst)\n",
    "result = sorted(lst, key=counts.get, reverse=True)"
   ]
  },
  {
   "cell_type": "code",
   "execution_count": 3,
   "id": "5ba4c582",
   "metadata": {},
   "outputs": [
    {
     "data": {
      "text/plain": [
       "492"
      ]
     },
     "execution_count": 3,
     "metadata": {},
     "output_type": "execute_result"
    }
   ],
   "source": [
    "len(result)"
   ]
  },
  {
   "cell_type": "code",
   "execution_count": 4,
   "id": "956eeb1e",
   "metadata": {},
   "outputs": [],
   "source": [
    "amp = []\n",
    "freq = []\n",
    "\n",
    "fr = 0;\n",
    "old = result[0];\n",
    "\n",
    "for r in result:\n",
    "    if (old == r):\n",
    "        fr += 1;\n",
    "        continue;\n",
    "    if (fr != 0):\n",
    "        freq.append(fr)\n",
    "        fr = 0;\n",
    "    old = r;\n",
    "    print(r)\n",
    "    amp.append(str(r))"
   ]
  },
  {
   "cell_type": "code",
   "execution_count": null,
   "id": "343c7ac4",
   "metadata": {},
   "outputs": [],
   "source": [
    "x_values = amp;\n",
    "y_values = freq;\n",
    "\n",
    "plt.bar(x_values, y_values, color = 'g', label = 'Amp and freqency of use')\n",
    "\n",
    "plt.xlabel('Amplifier Serial', fontsize = 12)\n",
    "plt.ylabel('Frequency of Use', fontsize = 12)\n",
    "\n",
    "plt.xticks(x_values,  rotation='vertical')\n",
    "plt.margins(0.02)\n",
    "\n",
    "plt.title('Charge Cycle', fontsize = 20)\n",
    "plt.legend()\n",
    "plt.tight_layout()\n",
    "plt.show()"
   ]
  },
  {
   "cell_type": "code",
   "execution_count": null,
   "id": "ce18bdea",
   "metadata": {},
   "outputs": [],
   "source": []
  }
 ],
 "metadata": {
  "kernelspec": {
   "display_name": "Python 3 (ipykernel)",
   "language": "python",
   "name": "python3"
  },
  "language_info": {
   "codemirror_mode": {
    "name": "ipython",
    "version": 3
   },
   "file_extension": ".py",
   "mimetype": "text/x-python",
   "name": "python",
   "nbconvert_exporter": "python",
   "pygments_lexer": "ipython3",
   "version": "3.8.8"
  }
 },
 "nbformat": 4,
 "nbformat_minor": 5
}
